{
  "nbformat": 4,
  "nbformat_minor": 0,
  "metadata": {
    "colab": {
      "provenance": [],
      "authorship_tag": "ABX9TyNyH9jY9qDVAz8DHzx3Zqyi",
      "include_colab_link": true
    },
    "kernelspec": {
      "name": "python3",
      "display_name": "Python 3"
    },
    "language_info": {
      "name": "python"
    }
  },
  "cells": [
    {
      "cell_type": "markdown",
      "metadata": {
        "id": "view-in-github",
        "colab_type": "text"
      },
      "source": [
        "<a href=\"https://colab.research.google.com/github/manishScripts/stw_2024/blob/main/dijke.ipynb\" target=\"_parent\"><img src=\"https://colab.research.google.com/assets/colab-badge.svg\" alt=\"Open In Colab\"/></a>"
      ]
    },
    {
      "cell_type": "code",
      "execution_count": null,
      "metadata": {
        "id": "YWKY0wmgMCjj",
        "colab": {
          "base_uri": "https://localhost:8080/"
        },
        "outputId": "fa565d35-b8aa-4873-b0cd-2af28ffa6170"
      },
      "outputs": [
        {
          "output_type": "stream",
          "name": "stdout",
          "text": [
            "[0, 4, 5, 12, 10, 8, 12, 17, 14, 17, 17, 24]\n"
          ]
        }
      ],
      "source": [
        "# from queue import Prioradj_matrix = [\n",
        "        [0, 4, 5, 0, 0, 0, 0, 0, 0, 0, 0, 0],\n",
        "        [4, 0, 0, 8, 6, 0, 0, 0, 0, 0, 0, 0],\n",
        "        [5, 0, 0, 0, 0, 3, 7, 0, 0, 0, 0, 0],\n",
        "        [0, 8, 0, 0, 0, 0, 0, 5, 0, 0, 0, 0],\n",
        "        [0, 6, 0, 0, 0, 0, 0, 0, 4, 0, 0, 0],\n",
        "        [0, 0, 3, 0, 0, 0, 0, 0, 6, 0, 0, 0],\n",
        "        [0, 0, 7, 0, 0, 0, 0, 0, 0, 0, 5, 0],\n",
        "        [0, 0, 0, 5, 0, 0, 0, 0, 0, 8, 0, 7],\n",
        "        [0, 0, 0, 0, 4, 6, 0, 0, 0, 3, 5, 0],\n",
        "        [0, 0, 0, 0, 0, 0, 0, 8, 3, 0, 0, 0],\n",
        "        [0, 0, 0, 0, 0, 0, 5, 0, 5, 0, 0, 0],\n",
        "        [0, 0, 0, 0, 0, 0, 0, 7, 0, 0, 0, 0]\n",
        "    ]ityQueue\n",
        "# pq=PriorityQueue()\n",
        "import heapq\n",
        "def graph(G):\n",
        "  adj_list={}\n",
        "  for i in G:\n",
        "       w= i[0]\n",
        "       x=i[1]\n",
        "       z=i[2]\n",
        "       if w not in adj_list:\n",
        "            adj_list[w] = []\n",
        "       if x not in adj_list:\n",
        "            adj_list[x] = []\n",
        "       adj_list[w].append((x,z))\n",
        "       adj_list[x].append((w,z))\n",
        "\n",
        "  return adj_list\n",
        "\n",
        "\n",
        "def dijke(source,adj_list):\n",
        "    distance = [float('inf')] * len(adj_list)\n",
        "    distance[source] = 0\n",
        "\n",
        "    pq = []\n",
        "    heapq.heappush(pq,(0,source))\n",
        "\n",
        "    while pq:\n",
        "\n",
        "        node=heapq.heappop(pq)\n",
        "        for next in adj_list[node[1]]:\n",
        "           edgeweight = next[1]\n",
        "           nextnode = next[0]\n",
        "           if edgeweight + node[0] < distance[nextnode]:\n",
        "               distance[nextnode] = edgeweight + node[0]\n",
        "               heapq.heappush(pq,(distance[nextnode],nextnode))\n",
        "\n",
        "    return distance\n",
        "\n",
        "\n",
        "eg=[[0,1,4],[0,2,5],[1,3,8],[1,4,6],[2,5,3],[2,6,7],[3,7,5],[4,8,4],[5,8,6],[7,9,8],[8,9,3],[6,10,5],[7,11,7],[8,10,5]]\n",
        "k=graph(eg)\n",
        "print(dijke(0,k))\n",
        "\n"
      ]
    },
    {
      "cell_type": "code",
      "source": [
        "adj_list = [\n",
        "        [0, 4, 5, 0, 0, 0, 0, 0, 0, 0, 0, 0],\n",
        "        [4, 0, 0, 8, 6, 0, 0, 0, 0, 0, 0, 0],\n",
        "        [5, 0, 0, 0, 0, 3, 7, 0, 0, 0, 0, 0],\n",
        "        [0, 8, 0, 0, 0, 0, 0, 5, 0, 0, 0, 0],\n",
        "        [0, 6, 0, 0, 0, 0, 0, 0, 4, 0, 0, 0],\n",
        "        [0, 0, 3, 0, 0, 0, 0, 0, 6, 0, 0, 0],\n",
        "        [0, 0, 7, 0, 0, 0, 0, 0, 0, 0, 5, 0],\n",
        "        [0, 0, 0, 5, 0, 0, 0, 0, 0, 8, 0, 7],\n",
        "        [0, 0, 0, 0, 4, 6, 0, 0, 0, 3, 5, 0],\n",
        "        [0, 0, 0, 0, 0, 0, 0, 8, 3, 0, 0, 0],\n",
        "        [0, 0, 0, 0, 0, 0, 5, 0, 5, 0, 0, 0],\n",
        "        [0, 0, 0, 0, 0, 0, 0, 7, 0, 0, 0, 0]\n",
        "    ]\n",
        "\n",
        "def dijke(source,adj_list):\n",
        "    distance = [float('inf')] * len(adj_list)\n",
        "    distance[source] = 0\n",
        "\n",
        "    visited = [False] * len(adj_list)\n",
        "    for i in range(len(adj_list)):\n",
        "      min_distance = float('inf')\n",
        "      min_index = -1\n",
        "      for j in range(len(adj_list)):\n",
        "        if distance[j] < min_distance and j not in visited:\n",
        "          min_distance = distance[j]\n",
        "          min_index = j\n",
        "          visited[min_index] = True\n",
        "\n",
        "\n",
        "        for v in range(len(adj_list)):\n",
        "\n",
        "          if (distance[min_index] + adj_list[min_index][v]  < distance[v]) and (not visited[v]) and (adj_list[min_index][v] !=0):\n",
        "              distance[v] = distance[min_index] + adj_list[min_index][v]\n",
        "\n",
        "    return distance\n",
        "\n",
        "print(dijke(0,adj_list))"
      ],
      "metadata": {
        "colab": {
          "base_uri": "https://localhost:8080/"
        },
        "id": "y_I21oDSeZdF",
        "outputId": "88d9f5dc-157d-4274-8a6d-b988627de4e5"
      },
      "execution_count": null,
      "outputs": [
        {
          "output_type": "stream",
          "name": "stdout",
          "text": [
            "[0, inf, inf, inf, inf, inf, inf, inf, inf, inf, inf, inf]\n"
          ]
        }
      ]
    }
  ]
}