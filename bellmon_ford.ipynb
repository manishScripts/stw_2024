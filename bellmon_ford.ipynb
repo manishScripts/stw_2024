{
  "nbformat": 4,
  "nbformat_minor": 0,
  "metadata": {
    "colab": {
      "provenance": [],
      "authorship_tag": "ABX9TyONSzNh5pOmFAIy/fdMBMHp",
      "include_colab_link": true
    },
    "kernelspec": {
      "name": "python3",
      "display_name": "Python 3"
    },
    "language_info": {
      "name": "python"
    }
  },
  "cells": [
    {
      "cell_type": "markdown",
      "metadata": {
        "id": "view-in-github",
        "colab_type": "text"
      },
      "source": [
        "<a href=\"https://colab.research.google.com/github/manishScripts/stw_2024/blob/main/bellmon_ford.ipynb\" target=\"_parent\"><img src=\"https://colab.research.google.com/assets/colab-badge.svg\" alt=\"Open In Colab\"/></a>"
      ]
    },
    {
      "cell_type": "code",
      "execution_count": null,
      "metadata": {
        "colab": {
          "base_uri": "https://localhost:8080/"
        },
        "id": "TOxsHG4TUDd0",
        "outputId": "9d8855dc-1901-4515-abf4-028358669579"
      },
      "outputs": [
        {
          "output_type": "stream",
          "name": "stdout",
          "text": [
            "{'A': 0, 'B': -1, 'C': 2, 'D': -2, 'E': 1}\n",
            "{1: 0, 2: 4, 3: inf, 4: 5}\n"
          ]
        }
      ],
      "source": [
        "def bellmon_ford(G,S):\n",
        "  distance = {v:float('inf') for v in G}\n",
        "  distance[S]=0\n",
        "\n",
        "  for i in range(len(G)-1):\n",
        "    for u in G:\n",
        "      for v,weight in G[u].items():\n",
        "        if distance[v]> distance[u]+weight and distance[u]!=float('inf'):\n",
        "          distance[v]=distance[u]+weight\n",
        "\n",
        "  for u in G:\n",
        "     for v,weight in G[u].items():\n",
        "       if distance[u] != float('inf') and distance[v]> weight + distance[u]:\n",
        "        raise ValueError('Negative cycle detected')\n",
        "\n",
        "  return distance\n",
        "\n",
        "graph ={\n",
        "      'A': {'B': -1, 'C': 4},\n",
        "      'B': {'C':3 , 'D': 2, 'E':2},\n",
        "      'C': {},\n",
        "      'D': {'B': 1, 'C':5},\n",
        "      'E': {'D': -3}\n",
        "  }\n",
        "\n",
        "print(bellmon_ford(graph,'A'))\n",
        "\n",
        "g={\n",
        "    1 : {2:4,4:5},\n",
        "    2 : {4:5},\n",
        "    3 : {2:-10},\n",
        "    4 : {1:3}\n",
        "}\n",
        "\n",
        "print(bellmon_ford(g,1))"
      ]
    }
  ]
}